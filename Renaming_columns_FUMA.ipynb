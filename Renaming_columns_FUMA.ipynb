{
 "cells": [
  {
   "cell_type": "code",
   "execution_count": 1,
   "metadata": {},
   "outputs": [],
   "source": [
    "import pandas as pd"
   ]
  },
  {
   "cell_type": "code",
   "execution_count": 859,
   "metadata": {},
   "outputs": [],
   "source": [
    "qc_1 = r'D:\\MiCM SUMMER SCHOLARS\\SAIGE_S2_NEW_CLSA_EUR_QC_filtered_chr_chr22.txt'"
   ]
  },
  {
   "cell_type": "code",
   "execution_count": 860,
   "metadata": {},
   "outputs": [],
   "source": [
    "qc_1_df = pd.read_csv(qc_1, sep = '\\t')"
   ]
  },
  {
   "cell_type": "code",
   "execution_count": 861,
   "metadata": {},
   "outputs": [],
   "source": [
    "qc_1_df.rename(columns={'Allele1':'Allele1_'},inplace=True)"
   ]
  },
  {
   "cell_type": "code",
   "execution_count": 862,
   "metadata": {},
   "outputs": [],
   "source": [
    "qc_1_df.rename(columns={'SNPID':'Allele1'},inplace=True)"
   ]
  },
  {
   "cell_type": "code",
   "execution_count": 863,
   "metadata": {},
   "outputs": [],
   "source": [
    "qc_1_df.rename(columns={'Allele2':'Allele2_'},inplace=True)"
   ]
  },
  {
   "cell_type": "code",
   "execution_count": 864,
   "metadata": {},
   "outputs": [],
   "source": [
    "qc_1_df.rename(columns={'Allele1_':'Allele2'},inplace=True)"
   ]
  },
  {
   "cell_type": "code",
   "execution_count": 865,
   "metadata": {},
   "outputs": [],
   "source": [
    "qc_1_df.rename(columns={'AC_Allele2':'AC_Allele2_'},inplace=True)"
   ]
  },
  {
   "cell_type": "code",
   "execution_count": 866,
   "metadata": {},
   "outputs": [],
   "source": [
    "qc_1_df.rename(columns={'Allele2_':'AC_Allele2'},inplace=True)"
   ]
  },
  {
   "cell_type": "code",
   "execution_count": 867,
   "metadata": {},
   "outputs": [],
   "source": [
    "qc_1_df.rename(columns={'AF_Allele2':'ab'},inplace=True)"
   ]
  },
  {
   "cell_type": "code",
   "execution_count": 868,
   "metadata": {},
   "outputs": [],
   "source": [
    "qc_1_df.rename(columns={'AC_Allele2_':'AF_Allele2'},inplace=True)"
   ]
  },
  {
   "cell_type": "code",
   "execution_count": 869,
   "metadata": {},
   "outputs": [],
   "source": [
    "qc_1_df.rename(columns={'imputationInfo':'ac'},inplace=True)"
   ]
  },
  {
   "cell_type": "code",
   "execution_count": 870,
   "metadata": {},
   "outputs": [],
   "source": [
    "qc_1_df.rename(columns={'ab':'imputationInfo'},inplace=True)"
   ]
  },
  {
   "cell_type": "code",
   "execution_count": 871,
   "metadata": {},
   "outputs": [],
   "source": [
    "qc_1_df.rename(columns={'N':'ab'},inplace=True)"
   ]
  },
  {
   "cell_type": "code",
   "execution_count": 872,
   "metadata": {},
   "outputs": [],
   "source": [
    "qc_1_df.rename(columns={'ac':'N'},inplace=True)"
   ]
  },
  {
   "cell_type": "code",
   "execution_count": 873,
   "metadata": {},
   "outputs": [],
   "source": [
    "qc_1_df.rename(columns={'BETA':'abc'},inplace=True)"
   ]
  },
  {
   "cell_type": "code",
   "execution_count": 874,
   "metadata": {},
   "outputs": [],
   "source": [
    "qc_1_df.rename(columns={'ab':'BETA'},inplace=True)"
   ]
  },
  {
   "cell_type": "code",
   "execution_count": 875,
   "metadata": {},
   "outputs": [],
   "source": [
    "qc_1_df.rename(columns={'SE':'ab'},inplace=True)"
   ]
  },
  {
   "cell_type": "code",
   "execution_count": 876,
   "metadata": {},
   "outputs": [],
   "source": [
    "qc_1_df.rename(columns={'abc':'SE'},inplace=True)"
   ]
  },
  {
   "cell_type": "code",
   "execution_count": 877,
   "metadata": {},
   "outputs": [],
   "source": [
    "qc_1_df.rename(columns={'Tstat':'ac'},inplace=True)"
   ]
  },
  {
   "cell_type": "code",
   "execution_count": 878,
   "metadata": {},
   "outputs": [],
   "source": [
    "qc_1_df.rename(columns={'ab':'Tstat'},inplace=True)"
   ]
  },
  {
   "cell_type": "code",
   "execution_count": 879,
   "metadata": {},
   "outputs": [],
   "source": [
    "qc_1_df.rename(columns={'p_value':'ab'},inplace=True)"
   ]
  },
  {
   "cell_type": "code",
   "execution_count": 880,
   "metadata": {},
   "outputs": [],
   "source": [
    "qc_1_df.rename(columns={'ac':'p_value'},inplace=True)"
   ]
  },
  {
   "cell_type": "code",
   "execution_count": 881,
   "metadata": {},
   "outputs": [],
   "source": [
    "qc_1_df.rename(columns={'p_value_NA':'ac'},inplace=True)"
   ]
  },
  {
   "cell_type": "code",
   "execution_count": 882,
   "metadata": {},
   "outputs": [],
   "source": [
    "qc_1_df.rename(columns={'ab':'p_value_NA'},inplace=True)"
   ]
  },
  {
   "cell_type": "code",
   "execution_count": 883,
   "metadata": {},
   "outputs": [],
   "source": [
    "qc_1_df.rename(columns={'Is_SPA_converge':'ab'},inplace=True)"
   ]
  },
  {
   "cell_type": "code",
   "execution_count": 884,
   "metadata": {},
   "outputs": [],
   "source": [
    "qc_1_df.rename(columns={'ac':'Is_SPA_converge'},inplace=True)"
   ]
  },
  {
   "cell_type": "code",
   "execution_count": 885,
   "metadata": {},
   "outputs": [],
   "source": [
    "qc_1_df.rename(columns={'varT':'ac'},inplace=True)"
   ]
  },
  {
   "cell_type": "code",
   "execution_count": 886,
   "metadata": {},
   "outputs": [],
   "source": [
    "qc_1_df.rename(columns={'ab':'varT'},inplace=True)"
   ]
  },
  {
   "cell_type": "code",
   "execution_count": 887,
   "metadata": {},
   "outputs": [],
   "source": [
    "qc_1_df.rename(columns={'varTstar':'ab'},inplace=True)"
   ]
  },
  {
   "cell_type": "code",
   "execution_count": 888,
   "metadata": {},
   "outputs": [],
   "source": [
    "qc_1_df.rename(columns={'ac':'varTstar'},inplace=True)"
   ]
  },
  {
   "cell_type": "code",
   "execution_count": 889,
   "metadata": {},
   "outputs": [],
   "source": [
    "qc_1_df.drop(['ab','AC_Allele2','AF_Allele2','imputationInfo','Tstat','p_value_NA','Is_SPA_converge','varT','varTstar'], axis=1, inplace=True)"
   ]
  },
  {
   "cell_type": "code",
   "execution_count": 890,
   "metadata": {},
   "outputs": [
    {
     "data": {
      "text/html": [
       "<div>\n",
       "<style scoped>\n",
       "    .dataframe tbody tr th:only-of-type {\n",
       "        vertical-align: middle;\n",
       "    }\n",
       "\n",
       "    .dataframe tbody tr th {\n",
       "        vertical-align: top;\n",
       "    }\n",
       "\n",
       "    .dataframe thead th {\n",
       "        text-align: right;\n",
       "    }\n",
       "</style>\n",
       "<table border=\"1\" class=\"dataframe\">\n",
       "  <thead>\n",
       "    <tr style=\"text-align: right;\">\n",
       "      <th></th>\n",
       "      <th>CHR</th>\n",
       "      <th>POS</th>\n",
       "      <th>rsid</th>\n",
       "      <th>Allele1</th>\n",
       "      <th>Allele2</th>\n",
       "      <th>N</th>\n",
       "      <th>BETA</th>\n",
       "      <th>SE</th>\n",
       "      <th>p_value</th>\n",
       "    </tr>\n",
       "  </thead>\n",
       "  <tbody>\n",
       "    <tr>\n",
       "      <th>0</th>\n",
       "      <td>22</td>\n",
       "      <td>10516450</td>\n",
       "      <td>chr22:10516450:GT:G</td>\n",
       "      <td>GT</td>\n",
       "      <td>G</td>\n",
       "      <td>25237</td>\n",
       "      <td>-0.046886</td>\n",
       "      <td>0.206964</td>\n",
       "      <td>0.820780</td>\n",
       "    </tr>\n",
       "    <tr>\n",
       "      <th>1</th>\n",
       "      <td>22</td>\n",
       "      <td>10519389</td>\n",
       "      <td>chr22:10519389:T:C</td>\n",
       "      <td>T</td>\n",
       "      <td>C</td>\n",
       "      <td>25237</td>\n",
       "      <td>0.337596</td>\n",
       "      <td>0.223888</td>\n",
       "      <td>0.131586</td>\n",
       "    </tr>\n",
       "    <tr>\n",
       "      <th>2</th>\n",
       "      <td>22</td>\n",
       "      <td>10665723</td>\n",
       "      <td>chr22:10665723:G:C</td>\n",
       "      <td>G</td>\n",
       "      <td>C</td>\n",
       "      <td>25237</td>\n",
       "      <td>-0.120190</td>\n",
       "      <td>0.138683</td>\n",
       "      <td>0.386131</td>\n",
       "    </tr>\n",
       "    <tr>\n",
       "      <th>3</th>\n",
       "      <td>22</td>\n",
       "      <td>10861866</td>\n",
       "      <td>chr22:10861866:G:T</td>\n",
       "      <td>G</td>\n",
       "      <td>T</td>\n",
       "      <td>25237</td>\n",
       "      <td>0.054554</td>\n",
       "      <td>0.140761</td>\n",
       "      <td>0.698339</td>\n",
       "    </tr>\n",
       "    <tr>\n",
       "      <th>4</th>\n",
       "      <td>22</td>\n",
       "      <td>11132574</td>\n",
       "      <td>chr22:11132574:T:A</td>\n",
       "      <td>T</td>\n",
       "      <td>A</td>\n",
       "      <td>25237</td>\n",
       "      <td>0.070018</td>\n",
       "      <td>0.135149</td>\n",
       "      <td>0.604403</td>\n",
       "    </tr>\n",
       "    <tr>\n",
       "      <th>...</th>\n",
       "      <td>...</td>\n",
       "      <td>...</td>\n",
       "      <td>...</td>\n",
       "      <td>...</td>\n",
       "      <td>...</td>\n",
       "      <td>...</td>\n",
       "      <td>...</td>\n",
       "      <td>...</td>\n",
       "      <td>...</td>\n",
       "    </tr>\n",
       "    <tr>\n",
       "      <th>122387</th>\n",
       "      <td>22</td>\n",
       "      <td>50802204</td>\n",
       "      <td>chr22:50802204:CAG:C</td>\n",
       "      <td>CAG</td>\n",
       "      <td>C</td>\n",
       "      <td>25237</td>\n",
       "      <td>-0.052663</td>\n",
       "      <td>0.096834</td>\n",
       "      <td>0.586550</td>\n",
       "    </tr>\n",
       "    <tr>\n",
       "      <th>122388</th>\n",
       "      <td>22</td>\n",
       "      <td>50803709</td>\n",
       "      <td>chr22:50803709:T:A</td>\n",
       "      <td>T</td>\n",
       "      <td>A</td>\n",
       "      <td>25237</td>\n",
       "      <td>0.016637</td>\n",
       "      <td>0.082452</td>\n",
       "      <td>0.840095</td>\n",
       "    </tr>\n",
       "    <tr>\n",
       "      <th>122389</th>\n",
       "      <td>22</td>\n",
       "      <td>50803843</td>\n",
       "      <td>chr22:50803843:C:G</td>\n",
       "      <td>C</td>\n",
       "      <td>G</td>\n",
       "      <td>25237</td>\n",
       "      <td>0.007781</td>\n",
       "      <td>0.034758</td>\n",
       "      <td>0.822872</td>\n",
       "    </tr>\n",
       "    <tr>\n",
       "      <th>122390</th>\n",
       "      <td>22</td>\n",
       "      <td>50804129</td>\n",
       "      <td>chr22:50804129:A:T</td>\n",
       "      <td>A</td>\n",
       "      <td>T</td>\n",
       "      <td>25237</td>\n",
       "      <td>-0.018672</td>\n",
       "      <td>0.040138</td>\n",
       "      <td>0.641792</td>\n",
       "    </tr>\n",
       "    <tr>\n",
       "      <th>122391</th>\n",
       "      <td>22</td>\n",
       "      <td>50805809</td>\n",
       "      <td>chr22:50805809:C:T</td>\n",
       "      <td>C</td>\n",
       "      <td>T</td>\n",
       "      <td>25237</td>\n",
       "      <td>0.110695</td>\n",
       "      <td>0.119969</td>\n",
       "      <td>0.356164</td>\n",
       "    </tr>\n",
       "  </tbody>\n",
       "</table>\n",
       "<p>122392 rows × 9 columns</p>\n",
       "</div>"
      ],
      "text/plain": [
       "        CHR       POS                  rsid Allele1 Allele2      N      BETA  \\\n",
       "0        22  10516450   chr22:10516450:GT:G      GT       G  25237 -0.046886   \n",
       "1        22  10519389    chr22:10519389:T:C       T       C  25237  0.337596   \n",
       "2        22  10665723    chr22:10665723:G:C       G       C  25237 -0.120190   \n",
       "3        22  10861866    chr22:10861866:G:T       G       T  25237  0.054554   \n",
       "4        22  11132574    chr22:11132574:T:A       T       A  25237  0.070018   \n",
       "...     ...       ...                   ...     ...     ...    ...       ...   \n",
       "122387   22  50802204  chr22:50802204:CAG:C     CAG       C  25237 -0.052663   \n",
       "122388   22  50803709    chr22:50803709:T:A       T       A  25237  0.016637   \n",
       "122389   22  50803843    chr22:50803843:C:G       C       G  25237  0.007781   \n",
       "122390   22  50804129    chr22:50804129:A:T       A       T  25237 -0.018672   \n",
       "122391   22  50805809    chr22:50805809:C:T       C       T  25237  0.110695   \n",
       "\n",
       "              SE   p_value  \n",
       "0       0.206964  0.820780  \n",
       "1       0.223888  0.131586  \n",
       "2       0.138683  0.386131  \n",
       "3       0.140761  0.698339  \n",
       "4       0.135149  0.604403  \n",
       "...          ...       ...  \n",
       "122387  0.096834  0.586550  \n",
       "122388  0.082452  0.840095  \n",
       "122389  0.034758  0.822872  \n",
       "122390  0.040138  0.641792  \n",
       "122391  0.119969  0.356164  \n",
       "\n",
       "[122392 rows x 9 columns]"
      ]
     },
     "execution_count": 890,
     "metadata": {},
     "output_type": "execute_result"
    }
   ],
   "source": [
    "qc_1_df"
   ]
  },
  {
   "cell_type": "code",
   "execution_count": 891,
   "metadata": {},
   "outputs": [],
   "source": [
    "qc_1_df.to_csv(r'D:\\MiCM SUMMER SCHOLARS\\qc_chr22.txt', sep='\\t',index = False)"
   ]
  },
  {
   "cell_type": "code",
   "execution_count": 897,
   "metadata": {},
   "outputs": [
    {
     "ename": "TypeError",
     "evalue": "'_io.TextIOWrapper' object is not callable",
     "output_type": "error",
     "traceback": [
      "\u001b[1;31m---------------------------------------------------------------------------\u001b[0m",
      "\u001b[1;31mTypeError\u001b[0m                                 Traceback (most recent call last)",
      "\u001b[1;32m<ipython-input-897-7d5f03120a0e>\u001b[0m in \u001b[0;36m<module>\u001b[1;34m\u001b[0m\n\u001b[0;32m      7\u001b[0m             \u001b[0moutfile\u001b[0m\u001b[1;33m.\u001b[0m\u001b[0mwrite\u001b[0m\u001b[1;33m(\u001b[0m\u001b[0mcontents\u001b[0m\u001b[1;33m)\u001b[0m\u001b[1;33m\u001b[0m\u001b[1;33m\u001b[0m\u001b[0m\n\u001b[0;32m      8\u001b[0m \u001b[1;33m\u001b[0m\u001b[0m\n\u001b[1;32m----> 9\u001b[1;33m     \u001b[0moutfile\u001b[0m\u001b[1;33m(\u001b[0m\u001b[1;34mr'D:\\MiCM SUMMER SCHOLARS\\qc_chr1-2.txt'\u001b[0m\u001b[1;33m,\u001b[0m \u001b[0msep\u001b[0m\u001b[1;33m=\u001b[0m\u001b[1;34m'\\t'\u001b[0m\u001b[1;33m,\u001b[0m\u001b[0mindex\u001b[0m \u001b[1;33m=\u001b[0m \u001b[1;32mFalse\u001b[0m\u001b[1;33m)\u001b[0m\u001b[1;33m\u001b[0m\u001b[1;33m\u001b[0m\u001b[0m\n\u001b[0m",
      "\u001b[1;31mTypeError\u001b[0m: '_io.TextIOWrapper' object is not callable"
     ]
    }
   ],
   "source": [
    "filenames = [r'D:\\MiCM SUMMER SCHOLARS\\qc_chr1.txt', r'D:\\MiCM SUMMER SCHOLARS\\qc_chr2.txt']\n",
    "\n",
    "with open(\"output_file.txt\", \"w\") as outfile:\n",
    "    for filename in filenames:\n",
    "        with open(filename) as infile:\n",
    "            contents = infile.read()\n",
    "            outfile.write(contents)\n",
    "            \n",
    "    outfile(r'D:\\MiCM SUMMER SCHOLARS\\qc_chr1-2.txt', sep='\\t',index = False)"
   ]
  },
  {
   "cell_type": "code",
   "execution_count": null,
   "metadata": {},
   "outputs": [],
   "source": [
    "'output_file.txt'"
   ]
  }
 ],
 "metadata": {
  "kernelspec": {
   "display_name": "Python 3",
   "language": "python",
   "name": "python3"
  },
  "language_info": {
   "codemirror_mode": {
    "name": "ipython",
    "version": 3
   },
   "file_extension": ".py",
   "mimetype": "text/x-python",
   "name": "python",
   "nbconvert_exporter": "python",
   "pygments_lexer": "ipython3",
   "version": "3.8.3"
  }
 },
 "nbformat": 4,
 "nbformat_minor": 4
}
